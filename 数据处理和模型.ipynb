{
 "cells": [
  {
   "cell_type": "code",
   "execution_count": 292,
   "metadata": {},
   "outputs": [],
   "source": [
    "import matplotlib.pyplot as plt\n",
    "import seaborn as sns\n",
    "import pandas as pd\n",
    "import numpy as np"
   ]
  },
  {
   "cell_type": "code",
   "execution_count": 293,
   "metadata": {},
   "outputs": [],
   "source": [
    "mytrain = pd.read_csv('data/happiness_train_complete.csv', parse_dates=['survey_time'],encoding=\"GB2312\" )\n",
    "mytest = pd.read_csv('data/happiness_test_complete.csv', parse_dates=['survey_time'], encoding=\"GB2312\")"
   ]
  },
  {
   "cell_type": "code",
   "execution_count": 294,
   "metadata": {},
   "outputs": [
    {
     "data": {
      "text/html": [
       "<div>\n",
       "<style scoped>\n",
       "    .dataframe tbody tr th:only-of-type {\n",
       "        vertical-align: middle;\n",
       "    }\n",
       "\n",
       "    .dataframe tbody tr th {\n",
       "        vertical-align: top;\n",
       "    }\n",
       "\n",
       "    .dataframe thead th {\n",
       "        text-align: right;\n",
       "    }\n",
       "</style>\n",
       "<table border=\"1\" class=\"dataframe\">\n",
       "  <thead>\n",
       "    <tr style=\"text-align: right;\">\n",
       "      <th></th>\n",
       "      <th>id</th>\n",
       "      <th>happiness</th>\n",
       "      <th>survey_type</th>\n",
       "      <th>province</th>\n",
       "      <th>city</th>\n",
       "      <th>county</th>\n",
       "      <th>survey_time</th>\n",
       "      <th>gender</th>\n",
       "      <th>birth</th>\n",
       "      <th>nationality</th>\n",
       "      <th>...</th>\n",
       "      <th>neighbor_familiarity</th>\n",
       "      <th>public_service_1</th>\n",
       "      <th>public_service_2</th>\n",
       "      <th>public_service_3</th>\n",
       "      <th>public_service_4</th>\n",
       "      <th>public_service_5</th>\n",
       "      <th>public_service_6</th>\n",
       "      <th>public_service_7</th>\n",
       "      <th>public_service_8</th>\n",
       "      <th>public_service_9</th>\n",
       "    </tr>\n",
       "  </thead>\n",
       "  <tbody>\n",
       "    <tr>\n",
       "      <th>0</th>\n",
       "      <td>1</td>\n",
       "      <td>4</td>\n",
       "      <td>1</td>\n",
       "      <td>12</td>\n",
       "      <td>32</td>\n",
       "      <td>59</td>\n",
       "      <td>2015-08-04 14:18:00</td>\n",
       "      <td>1</td>\n",
       "      <td>1959</td>\n",
       "      <td>1</td>\n",
       "      <td>...</td>\n",
       "      <td>4</td>\n",
       "      <td>50</td>\n",
       "      <td>60</td>\n",
       "      <td>50</td>\n",
       "      <td>50</td>\n",
       "      <td>30.0</td>\n",
       "      <td>30</td>\n",
       "      <td>50</td>\n",
       "      <td>50</td>\n",
       "      <td>50</td>\n",
       "    </tr>\n",
       "    <tr>\n",
       "      <th>1</th>\n",
       "      <td>2</td>\n",
       "      <td>4</td>\n",
       "      <td>2</td>\n",
       "      <td>18</td>\n",
       "      <td>52</td>\n",
       "      <td>85</td>\n",
       "      <td>2015-07-21 15:04:00</td>\n",
       "      <td>1</td>\n",
       "      <td>1992</td>\n",
       "      <td>1</td>\n",
       "      <td>...</td>\n",
       "      <td>3</td>\n",
       "      <td>90</td>\n",
       "      <td>70</td>\n",
       "      <td>70</td>\n",
       "      <td>80</td>\n",
       "      <td>85.0</td>\n",
       "      <td>70</td>\n",
       "      <td>90</td>\n",
       "      <td>60</td>\n",
       "      <td>60</td>\n",
       "    </tr>\n",
       "    <tr>\n",
       "      <th>2</th>\n",
       "      <td>3</td>\n",
       "      <td>4</td>\n",
       "      <td>2</td>\n",
       "      <td>29</td>\n",
       "      <td>83</td>\n",
       "      <td>126</td>\n",
       "      <td>2015-07-21 13:24:00</td>\n",
       "      <td>2</td>\n",
       "      <td>1967</td>\n",
       "      <td>1</td>\n",
       "      <td>...</td>\n",
       "      <td>4</td>\n",
       "      <td>90</td>\n",
       "      <td>80</td>\n",
       "      <td>75</td>\n",
       "      <td>79</td>\n",
       "      <td>80.0</td>\n",
       "      <td>90</td>\n",
       "      <td>90</td>\n",
       "      <td>90</td>\n",
       "      <td>75</td>\n",
       "    </tr>\n",
       "    <tr>\n",
       "      <th>3</th>\n",
       "      <td>4</td>\n",
       "      <td>5</td>\n",
       "      <td>2</td>\n",
       "      <td>10</td>\n",
       "      <td>28</td>\n",
       "      <td>51</td>\n",
       "      <td>2015-07-25 17:33:00</td>\n",
       "      <td>2</td>\n",
       "      <td>1943</td>\n",
       "      <td>1</td>\n",
       "      <td>...</td>\n",
       "      <td>3</td>\n",
       "      <td>100</td>\n",
       "      <td>90</td>\n",
       "      <td>70</td>\n",
       "      <td>80</td>\n",
       "      <td>80.0</td>\n",
       "      <td>90</td>\n",
       "      <td>90</td>\n",
       "      <td>80</td>\n",
       "      <td>80</td>\n",
       "    </tr>\n",
       "    <tr>\n",
       "      <th>4</th>\n",
       "      <td>5</td>\n",
       "      <td>4</td>\n",
       "      <td>1</td>\n",
       "      <td>7</td>\n",
       "      <td>18</td>\n",
       "      <td>36</td>\n",
       "      <td>2015-08-10 09:50:00</td>\n",
       "      <td>2</td>\n",
       "      <td>1994</td>\n",
       "      <td>1</td>\n",
       "      <td>...</td>\n",
       "      <td>2</td>\n",
       "      <td>50</td>\n",
       "      <td>50</td>\n",
       "      <td>50</td>\n",
       "      <td>50</td>\n",
       "      <td>50.0</td>\n",
       "      <td>50</td>\n",
       "      <td>50</td>\n",
       "      <td>50</td>\n",
       "      <td>50</td>\n",
       "    </tr>\n",
       "  </tbody>\n",
       "</table>\n",
       "<p>5 rows × 140 columns</p>\n",
       "</div>"
      ],
      "text/plain": [
       "   id  happiness  survey_type  province  city  county         survey_time  \\\n",
       "0   1          4            1        12    32      59 2015-08-04 14:18:00   \n",
       "1   2          4            2        18    52      85 2015-07-21 15:04:00   \n",
       "2   3          4            2        29    83     126 2015-07-21 13:24:00   \n",
       "3   4          5            2        10    28      51 2015-07-25 17:33:00   \n",
       "4   5          4            1         7    18      36 2015-08-10 09:50:00   \n",
       "\n",
       "   gender  birth  nationality  ...  neighbor_familiarity  public_service_1  \\\n",
       "0       1   1959            1  ...                     4                50   \n",
       "1       1   1992            1  ...                     3                90   \n",
       "2       2   1967            1  ...                     4                90   \n",
       "3       2   1943            1  ...                     3               100   \n",
       "4       2   1994            1  ...                     2                50   \n",
       "\n",
       "   public_service_2 public_service_3  public_service_4  public_service_5  \\\n",
       "0                60               50                50              30.0   \n",
       "1                70               70                80              85.0   \n",
       "2                80               75                79              80.0   \n",
       "3                90               70                80              80.0   \n",
       "4                50               50                50              50.0   \n",
       "\n",
       "   public_service_6  public_service_7  public_service_8  public_service_9  \n",
       "0                30                50                50                50  \n",
       "1                70                90                60                60  \n",
       "2                90                90                90                75  \n",
       "3                90                90                80                80  \n",
       "4                50                50                50                50  \n",
       "\n",
       "[5 rows x 140 columns]"
      ]
     },
     "execution_count": 294,
     "metadata": {},
     "output_type": "execute_result"
    }
   ],
   "source": [
    "#查看数据\n",
    "mytrain.head()"
   ]
  },
  {
   "cell_type": "code",
   "execution_count": 295,
   "metadata": {},
   "outputs": [
    {
     "data": {
      "text/plain": [
       " 4    4818\n",
       " 5    1410\n",
       " 3    1159\n",
       " 2     497\n",
       " 1     104\n",
       "-8      12\n",
       "Name: happiness, dtype: int64"
      ]
     },
     "execution_count": 295,
     "metadata": {},
     "output_type": "execute_result"
    }
   ],
   "source": [
    "#查看happiness的值\n",
    "mytrain['happiness'].value_counts()"
   ]
  },
  {
   "cell_type": "code",
   "execution_count": null,
   "metadata": {},
   "outputs": [],
   "source": []
  },
  {
   "cell_type": "code",
   "execution_count": 296,
   "metadata": {},
   "outputs": [
    {
     "data": {
      "text/plain": [
       "(8000, 140)"
      ]
     },
     "execution_count": 296,
     "metadata": {},
     "output_type": "execute_result"
    }
   ],
   "source": [
    "tmp_train=pd.DataFrame(mytrain)\n",
    "tmp_train.shape"
   ]
  },
  {
   "cell_type": "code",
   "execution_count": 297,
   "metadata": {},
   "outputs": [
    {
     "data": {
      "text/plain": [
       "<matplotlib.axes._subplots.AxesSubplot at 0x1d5da6e0148>"
      ]
     },
     "execution_count": 297,
     "metadata": {},
     "output_type": "execute_result"
    },
    {
     "data": {
      "image/png": "[encoded data removed]",
      "text/plain": [
       "<Figure size 432x288 with 1 Axes>"
      ]
     },
     "metadata": {
      "needs_background": "light"
     },
     "output_type": "display_data"
    }
   ],
   "source": [
    "y_train = mytrain['happiness']\n",
    "y_train = y_train.map(lambda x:3 if x==-8 else x)\n",
    "# y_train.plot.hist()\n",
    "sns.countplot(x='happiness', data=mytrain)\n"
   ]
  },
  {
   "cell_type": "code",
   "execution_count": 298,
   "metadata": {},
   "outputs": [
    {
     "data": {
      "image/png": "[encoded data removed]",
      "text/plain": [
       "<Figure size 432x288 with 1 Axes>"
      ]
     },
     "metadata": {},
     "output_type": "display_data"
    }
   ],
   "source": [
    "mytrain['happiness'].value_counts().plot.pie(autopct='%1.1f%%' ,shadow=True)\n",
    "plt.show()"
   ]
  },
  {
   "cell_type": "code",
   "execution_count": 299,
   "metadata": {},
   "outputs": [],
   "source": [
    "\n",
    "mytrain.drop([\"happiness\"],axis=1,inplace=True)\n",
    "# 合并在一起方便处理 训练集和测试集\n",
    "all_data = pd.concat((mytrain,mytest),axis=0)\n"
   ]
  },
  {
   "cell_type": "code",
   "execution_count": 300,
   "metadata": {},
   "outputs": [
    {
     "data": {
      "text/html": [
       "<div>\n",
       "<style scoped>\n",
       "    .dataframe tbody tr th:only-of-type {\n",
       "        vertical-align: middle;\n",
       "    }\n",
       "\n",
       "    .dataframe tbody tr th {\n",
       "        vertical-align: top;\n",
       "    }\n",
       "\n",
       "    .dataframe thead th {\n",
       "        text-align: right;\n",
       "    }\n",
       "</style>\n",
       "<table border=\"1\" class=\"dataframe\">\n",
       "  <thead>\n",
       "    <tr style=\"text-align: right;\">\n",
       "      <th></th>\n",
       "      <th>missing</th>\n",
       "    </tr>\n",
       "  </thead>\n",
       "  <tbody>\n",
       "    <tr>\n",
       "      <th>edu_other</th>\n",
       "      <td>10962</td>\n",
       "    </tr>\n",
       "    <tr>\n",
       "      <th>invest_other</th>\n",
       "      <td>10923</td>\n",
       "    </tr>\n",
       "    <tr>\n",
       "      <th>property_other</th>\n",
       "      <td>10879</td>\n",
       "    </tr>\n",
       "    <tr>\n",
       "      <th>join_party</th>\n",
       "      <td>9842</td>\n",
       "    </tr>\n",
       "    <tr>\n",
       "      <th>s_work_type</th>\n",
       "      <td>7444</td>\n",
       "    </tr>\n",
       "    <tr>\n",
       "      <th>s_work_status</th>\n",
       "      <td>7444</td>\n",
       "    </tr>\n",
       "    <tr>\n",
       "      <th>work_status</th>\n",
       "      <td>6939</td>\n",
       "    </tr>\n",
       "    <tr>\n",
       "      <th>work_yr</th>\n",
       "      <td>6939</td>\n",
       "    </tr>\n",
       "    <tr>\n",
       "      <th>work_manage</th>\n",
       "      <td>6938</td>\n",
       "    </tr>\n",
       "    <tr>\n",
       "      <th>work_type</th>\n",
       "      <td>6938</td>\n",
       "    </tr>\n",
       "    <tr>\n",
       "      <th>edu_yr</th>\n",
       "      <td>2756</td>\n",
       "    </tr>\n",
       "    <tr>\n",
       "      <th>marital_now</th>\n",
       "      <td>2447</td>\n",
       "    </tr>\n",
       "    <tr>\n",
       "      <th>s_political</th>\n",
       "      <td>2367</td>\n",
       "    </tr>\n",
       "    <tr>\n",
       "      <th>s_hukou</th>\n",
       "      <td>2367</td>\n",
       "    </tr>\n",
       "    <tr>\n",
       "      <th>s_income</th>\n",
       "      <td>2367</td>\n",
       "    </tr>\n",
       "    <tr>\n",
       "      <th>s_birth</th>\n",
       "      <td>2367</td>\n",
       "    </tr>\n",
       "    <tr>\n",
       "      <th>s_edu</th>\n",
       "      <td>2367</td>\n",
       "    </tr>\n",
       "    <tr>\n",
       "      <th>s_work_exper</th>\n",
       "      <td>2367</td>\n",
       "    </tr>\n",
       "    <tr>\n",
       "      <th>edu_status</th>\n",
       "      <td>1569</td>\n",
       "    </tr>\n",
       "    <tr>\n",
       "      <th>minor_child</th>\n",
       "      <td>1448</td>\n",
       "    </tr>\n",
       "    <tr>\n",
       "      <th>marital_1st</th>\n",
       "      <td>1129</td>\n",
       "    </tr>\n",
       "    <tr>\n",
       "      <th>social_friend</th>\n",
       "      <td>1097</td>\n",
       "    </tr>\n",
       "    <tr>\n",
       "      <th>social_neighbor</th>\n",
       "      <td>1097</td>\n",
       "    </tr>\n",
       "    <tr>\n",
       "      <th>hukou_loc</th>\n",
       "      <td>4</td>\n",
       "    </tr>\n",
       "    <tr>\n",
       "      <th>family_income</th>\n",
       "      <td>1</td>\n",
       "    </tr>\n",
       "  </tbody>\n",
       "</table>\n",
       "</div>"
      ],
      "text/plain": [
       "                 missing\n",
       "edu_other          10962\n",
       "invest_other       10923\n",
       "property_other     10879\n",
       "join_party          9842\n",
       "s_work_type         7444\n",
       "s_work_status       7444\n",
       "work_status         6939\n",
       "work_yr             6939\n",
       "work_manage         6938\n",
       "work_type           6938\n",
       "edu_yr              2756\n",
       "marital_now         2447\n",
       "s_political         2367\n",
       "s_hukou             2367\n",
       "s_income            2367\n",
       "s_birth             2367\n",
       "s_edu               2367\n",
       "s_work_exper        2367\n",
       "edu_status          1569\n",
       "minor_child         1448\n",
       "marital_1st         1129\n",
       "social_friend       1097\n",
       "social_neighbor     1097\n",
       "hukou_loc              4\n",
       "family_income          1"
      ]
     },
     "execution_count": 300,
     "metadata": {},
     "output_type": "execute_result"
    }
   ],
   "source": [
    "#查看缺失值\n",
    "total = all_data.isnull().sum().sort_values(ascending=False)\n",
    "missing_data = pd.DataFrame(total,columns=['missing'])\n",
    "missing_data[missing_data['missing']>0]\n"
   ]
  },
  {
   "cell_type": "code",
   "execution_count": 301,
   "metadata": {},
   "outputs": [],
   "source": [
    "all_data.drop( ['edu_other','invest_other','property_other','join_party',\n",
    "              's_work_type','s_work_status','work_status',\n",
    "              'work_yr','work_manage','work_type',],axis=1,inplace=True)\n",
    "# all_data.drop(['religion_freq','social_neighbor','work_exper','invest_8','inc_ability','trust_11'],axis=1,inplace=True)"
   ]
  },
  {
   "cell_type": "code",
   "execution_count": 302,
   "metadata": {},
   "outputs": [],
   "source": [
    "\n",
    "#这些缺失值是因为没有结婚而导致的，所以全部缺失值填充为0 \n",
    "all_data['s_political'].fillna(0,inplace=True)\n",
    "all_data['s_hukou'].fillna(0,inplace=True)\n",
    "all_data['s_income'].fillna(0,inplace=True)\n",
    "all_data['s_birth'].fillna(0,inplace=True)\n",
    "all_data['s_edu'].fillna(0,inplace=True)     \n",
    "all_data['s_work_exper'].fillna(0,inplace=True)"
   ]
  },
  {
   "cell_type": "code",
   "execution_count": 303,
   "metadata": {},
   "outputs": [],
   "source": [
    "all_data['edu_status'].fillna(0,inplace=True)\n",
    "all_data['edu_yr'].fillna(0,inplace=True)"
   ]
  },
  {
   "cell_type": "code",
   "execution_count": 304,
   "metadata": {},
   "outputs": [],
   "source": [
    "\n",
    "all_data['social_friend'].fillna(7,inplace=True)\n",
    "all_data['social_neighbor'].fillna(7,inplace=True)\n"
   ]
  },
  {
   "cell_type": "code",
   "execution_count": 305,
   "metadata": {},
   "outputs": [],
   "source": [
    "all_data['minor_child'].fillna(0,inplace=True)\n"
   ]
  },
  {
   "cell_type": "code",
   "execution_count": 306,
   "metadata": {},
   "outputs": [],
   "source": [
    "\n",
    "# 户口情况\n",
    "#缺失值是由于没有户口造成的\n",
    "#全部缺失值填充为4\n",
    "all_data['hukou_loc'].fillna(4,inplace=True)"
   ]
  },
  {
   "cell_type": "code",
   "execution_count": 307,
   "metadata": {},
   "outputs": [],
   "source": [
    "\n",
    "# 婚姻情况\n",
    "all_data['marital_now'].fillna(-1,inplace=True) \n",
    "all_data['marital_1st'].fillna(-1,inplace=True)"
   ]
  },
  {
   "cell_type": "code",
   "execution_count": 308,
   "metadata": {},
   "outputs": [],
   "source": [
    "all_data['family_income'].fillna(all_data['family_income'].mean(),inplace=True)"
   ]
  },
  {
   "cell_type": "code",
   "execution_count": 309,
   "metadata": {},
   "outputs": [
    {
     "data": {
      "text/html": [
       "<div>\n",
       "<style scoped>\n",
       "    .dataframe tbody tr th:only-of-type {\n",
       "        vertical-align: middle;\n",
       "    }\n",
       "\n",
       "    .dataframe tbody tr th {\n",
       "        vertical-align: top;\n",
       "    }\n",
       "\n",
       "    .dataframe thead th {\n",
       "        text-align: right;\n",
       "    }\n",
       "</style>\n",
       "<table border=\"1\" class=\"dataframe\">\n",
       "  <thead>\n",
       "    <tr style=\"text-align: right;\">\n",
       "      <th></th>\n",
       "      <th>missing</th>\n",
       "    </tr>\n",
       "  </thead>\n",
       "  <tbody>\n",
       "  </tbody>\n",
       "</table>\n",
       "</div>"
      ],
      "text/plain": [
       "Empty DataFrame\n",
       "Columns: [missing]\n",
       "Index: []"
      ]
     },
     "execution_count": 309,
     "metadata": {},
     "output_type": "execute_result"
    }
   ],
   "source": [
    "#查看缺失值\n",
    "total = all_data.isnull().sum().sort_values(ascending=False)\n",
    "missing_data = pd.DataFrame(total,columns=['missing'])\n",
    "missing_data[missing_data['missing']>0]"
   ]
  },
  {
   "cell_type": "code",
   "execution_count": 310,
   "metadata": {},
   "outputs": [
    {
     "data": {
      "text/plain": [
       "(8000, 140)"
      ]
     },
     "execution_count": 310,
     "metadata": {},
     "output_type": "execute_result"
    }
   ],
   "source": [
    "tmp_train.shape"
   ]
  },
  {
   "cell_type": "code",
   "execution_count": 311,
   "metadata": {},
   "outputs": [
    {
     "data": {
      "text/plain": [
       "<matplotlib.axes._subplots.AxesSubplot at 0x1d5d355c048>"
      ]
     },
     "execution_count": 311,
     "metadata": {},
     "output_type": "execute_result"
    },
    {
     "data": {
      "image/png": "[encoded data removed]",
      "text/plain": [
       "<Figure size 432x288 with 1 Axes>"
      ]
     },
     "metadata": {
      "needs_background": "light"
     },
     "output_type": "display_data"
    }
   ],
   "source": [
    "sns.countplot('religion', hue='happiness', data=tmp_train)"
   ]
  },
  {
   "cell_type": "code",
   "execution_count": 312,
   "metadata": {},
   "outputs": [],
   "source": [
    "all_data.drop(['religion','religion_freq'],axis=1,inplace=True)"
   ]
  },
  {
   "cell_type": "code",
   "execution_count": 313,
   "metadata": {},
   "outputs": [
    {
     "data": {
      "text/plain": [
       "happiness     1.000000\n",
       "property_0   -0.080732\n",
       "property_1   -0.009040\n",
       "property_2    0.040867\n",
       "property_3    0.031487\n",
       "property_4    0.016762\n",
       "property_5    0.014323\n",
       "property_6    0.010124\n",
       "property_7   -0.011700\n",
       "Name: happiness, dtype: float64"
      ]
     },
     "execution_count": 313,
     "metadata": {},
     "output_type": "execute_result"
    }
   ],
   "source": [
    "col=['happiness','property_0','property_1','property_2','property_3','property_4','property_5','property_6','property_7']\n",
    "pro_data=tmp_train[col]\n",
    "pro_data.corr()['happiness']\n"
   ]
  },
  {
   "cell_type": "code",
   "execution_count": 314,
   "metadata": {},
   "outputs": [],
   "source": [
    "\n",
    "all_data.drop(['property_0','property_3','property_4','property_5',\n",
    "             'property_6','property_7','property_8'],axis=1,inplace=True)\n"
   ]
  },
  {
   "cell_type": "code",
   "execution_count": 315,
   "metadata": {},
   "outputs": [
    {
     "data": {
      "text/plain": [
       "happiness    1.000000\n",
       "insur_1     -0.002966\n",
       "insur_2     -0.017432\n",
       "insur_3      0.040919\n",
       "insur_4      0.037924\n",
       "Name: happiness, dtype: float64"
      ]
     },
     "execution_count": 315,
     "metadata": {},
     "output_type": "execute_result"
    }
   ],
   "source": [
    "col=['happiness','insur_1','insur_2','insur_3','insur_4']\n",
    "pro_data=tmp_train[col]\n",
    "pro_data.corr()['happiness']\n"
   ]
  },
  {
   "cell_type": "code",
   "execution_count": 316,
   "metadata": {},
   "outputs": [],
   "source": [
    "all_data.drop(['insur_1','insur_2','insur_3','insur_4'],axis=1,inplace=True)"
   ]
  },
  {
   "cell_type": "code",
   "execution_count": 317,
   "metadata": {},
   "outputs": [],
   "source": [
    "all_data.drop(['f_political','m_political'],axis=1,inplace=True)"
   ]
  },
  {
   "cell_type": "code",
   "execution_count": 318,
   "metadata": {},
   "outputs": [
    {
     "data": {
      "image/png": "[encoded data removed]",
      "text/plain": [
       "<Figure size 432x288 with 1 Axes>"
      ]
     },
     "metadata": {
      "needs_background": "light"
     },
     "output_type": "display_data"
    }
   ],
   "source": [
    "\n",
    "sns.countplot(x='class', data=all_data)\n",
    "all_data['class'] = all_data['class'].map(lambda x:5 if x==-8 else x)"
   ]
  },
  {
   "cell_type": "code",
   "execution_count": 319,
   "metadata": {},
   "outputs": [
    {
     "data": {
      "text/plain": [
       "<matplotlib.axes._subplots.AxesSubplot at 0x1d5cf8e2f08>"
      ]
     },
     "execution_count": 319,
     "metadata": {},
     "output_type": "execute_result"
    },
    {
     "data": {
      "image/png": "[encoded data removed]",
      "text/plain": [
       "<Figure size 432x288 with 1 Axes>"
      ]
     },
     "metadata": {
      "needs_background": "light"
     },
     "output_type": "display_data"
    }
   ],
   "source": [
    "sns.countplot('class_10_after', hue='happiness', data=tmp_train)"
   ]
  },
  {
   "cell_type": "code",
   "execution_count": 320,
   "metadata": {},
   "outputs": [
    {
     "data": {
      "text/plain": [
       "<matplotlib.axes._subplots.AxesSubplot at 0x1d5d0912c48>"
      ]
     },
     "execution_count": 320,
     "metadata": {},
     "output_type": "execute_result"
    },
    {
     "data": {
      "image/png": "[encoded data removed]",
      "text/plain": [
       "<Figure size 432x288 with 1 Axes>"
      ]
     },
     "metadata": {
      "needs_background": "light"
     },
     "output_type": "display_data"
    }
   ],
   "source": [
    "all_data['edu'] = all_data['edu'].map(lambda x:0 if x==-8 else x)\n",
    "# df_all['edu'] = df_all['edu'].map(lambda x:0 if x==14 else x)\n",
    "# sns.countplot(x='edu', data=df_all)\n",
    "def edu_split(x):\n",
    "    if x in [1,2,14]:\n",
    "        return 0\n",
    "    elif x in [3]:\n",
    "        return 1\n",
    "    elif x in [4]:\n",
    "        return 2\n",
    "    elif x in [5,7,8]:\n",
    "        return 3\n",
    "    elif x in [6]:\n",
    "        return 4\n",
    "    elif x in [9,10]:\n",
    "        return 5\n",
    "    elif x in [11,12]:\n",
    "        return 6\n",
    "    elif x in[13]:\n",
    "        return 7\n",
    "all_data[\"edu\"]=all_data[\"edu\"].map(edu_split)\n",
    "all_data[\"s_edu\"] = all_data[\"s_edu\"].map(edu_split)\n",
    "sns.countplot(x='s_edu', data=all_data)\n"
   ]
  },
  {
   "cell_type": "code",
   "execution_count": null,
   "metadata": {},
   "outputs": [],
   "source": []
  },
  {
   "cell_type": "code",
   "execution_count": 321,
   "metadata": {},
   "outputs": [],
   "source": [
    "\n",
    "all_data['survey_time'] = pd.to_datetime(all_data['survey_time'],format='%Y-%m-%d %H:%M:%S')\n",
    "all_data[\"hour\"]=all_data[\"survey_time\"].dt.hour"
   ]
  },
  {
   "cell_type": "code",
   "execution_count": 322,
   "metadata": {},
   "outputs": [
    {
     "data": {
      "image/png": "[encoded data removed]",
      "text/plain": [
       "<Figure size 432x288 with 1 Axes>"
      ]
     },
     "metadata": {
      "needs_background": "light"
     },
     "output_type": "display_data"
    }
   ],
   "source": [
    "\n",
    "#把一天的时间分段\n",
    "def hour_split(x):\n",
    "    if 0<=x<6:\n",
    "        return 0\n",
    "    elif  6<=x<8:\n",
    "        return 1\n",
    "    elif  8<=x<12:\n",
    "        return 2\n",
    "    elif  12<=x<14:\n",
    "        return 3\n",
    "    elif  14<=x<18:\n",
    "        return 4\n",
    "    elif  18<=x<21:\n",
    "        return 5\n",
    "    elif  21<=x<24:\n",
    "        return 6\n",
    "\n",
    "    \n",
    "all_data[\"hour_split\"]=all_data[\"hour\"].map(hour_split)\n",
    "sns.countplot(x='hour_split', data=all_data)\n",
    "all_data.drop(['hour'],axis=1,inplace=True)"
   ]
  },
  {
   "cell_type": "code",
   "execution_count": 323,
   "metadata": {},
   "outputs": [],
   "source": [
    "\n",
    "#出生的年代\n",
    "def birth_split(x):\n",
    "    if(x<1920):\n",
    "        return 0\n",
    "    if 1920<=x<=1930:\n",
    "        return 1\n",
    "    elif  1930<x<=1940:\n",
    "        return 2\n",
    "    elif  1940<x<=1950:\n",
    "        return 3\n",
    "    elif  1950<x<=1960:\n",
    "        return 4\n",
    "    elif  1960<x<=1970:\n",
    "        return 5\n",
    "    elif  1970<x<=1980:\n",
    "        return 6\n",
    "    elif  1980<x<=1990:\n",
    "        return 7\n",
    "    elif  1990<x<=2000:\n",
    "        return 8"
   ]
  },
  {
   "cell_type": "code",
   "execution_count": 324,
   "metadata": {
    "scrolled": true
   },
   "outputs": [],
   "source": [
    "\n",
    "all_data[\"birth_s\"]=all_data[\"birth\"].map(birth_split)"
   ]
  },
  {
   "cell_type": "code",
   "execution_count": 325,
   "metadata": {},
   "outputs": [],
   "source": [
    "\n",
    "# 年龄划分\n",
    "def age_class(x):\n",
    "    if(x<0):\n",
    "        return 0\n",
    "    elif(x>0 and x<=16):\n",
    "        return 1\n",
    "    elif(x>16 and x<=32):\n",
    "        return 2\n",
    "    elif(x>32 and x<=48):\n",
    "        return 3\n",
    "    elif(x>48 and x<=64):\n",
    "        return 4\n",
    "    elif(x>64 and x<=80):\n",
    "        return 5\n",
    "    elif(80<x<=96):\n",
    "        return 6\n",
    "    else:\n",
    "        return 7"
   ]
  },
  {
   "cell_type": "code",
   "execution_count": 326,
   "metadata": {},
   "outputs": [],
   "source": [
    "all_data['age']=pd.to_datetime(all_data['survey_time']).dt.year-all_data['birth']\n",
    "all_data[\"age_class\"]=all_data['age'].map(age_class)"
   ]
  },
  {
   "cell_type": "code",
   "execution_count": 327,
   "metadata": {},
   "outputs": [],
   "source": [
    "# 既然已对年龄分了级 那么就应该去掉age\n",
    "all_data.drop(['age'],axis=1,inplace=True)"
   ]
  },
  {
   "cell_type": "code",
   "execution_count": 328,
   "metadata": {},
   "outputs": [],
   "source": [
    "\n",
    "def  get_fat(x):\n",
    "    if(x<0):\n",
    "        return 1\n",
    "    elif(x>0 and x<18.5):\n",
    "        return 1\n",
    "    elif(x>=18.5 and x<24):\n",
    "        return 2 \n",
    "    elif(x>=24 and x<28):\n",
    "        return 3\n",
    "    elif(x>28 and x<30):\n",
    "        return 4\n",
    "    else:\n",
    "        return 5"
   ]
  },
  {
   "cell_type": "code",
   "execution_count": 329,
   "metadata": {},
   "outputs": [
    {
     "data": {
      "image/png": "[encoded data removed]",
      "text/plain": [
       "<Figure size 432x288 with 1 Axes>"
      ]
     },
     "metadata": {
      "needs_background": "light"
     },
     "output_type": "display_data"
    }
   ],
   "source": [
    "# 增加BMI\n",
    "\n",
    "height = all_data[\"height_cm\"]/100\n",
    "kg = all_data[\"weight_jin\"]/2\n",
    "\n",
    "bmi = kg/pow(height,2)\n",
    "\n",
    "all_data[\"bmi\"] = bmi\n",
    "\n",
    "all_data[\"fat\"] = all_data[\"bmi\"].map(get_fat)\n",
    "\n",
    "sns.countplot(x='fat', data=all_data)\n",
    "all_data.drop(['bmi'],axis=1,inplace=True)"
   ]
  },
  {
   "cell_type": "code",
   "execution_count": 330,
   "metadata": {},
   "outputs": [],
   "source": [
    "def  weight_class(x):\n",
    "    if(x<80):\n",
    "        return 1\n",
    "    elif(x>=80 and x<100):\n",
    "        return 1\n",
    "    elif(x>=100 and x<120):\n",
    "        return 2 \n",
    "    elif(x>=120 and x<150):\n",
    "        return 3\n",
    "    elif(x>=150 and x<180):\n",
    "        return 4\n",
    "    else:\n",
    "        return 5"
   ]
  },
  {
   "cell_type": "code",
   "execution_count": 331,
   "metadata": {},
   "outputs": [
    {
     "data": {
      "text/plain": [
       "<matplotlib.axes._subplots.AxesSubplot at 0x1d5d0f8ba88>"
      ]
     },
     "execution_count": 331,
     "metadata": {},
     "output_type": "execute_result"
    },
    {
     "data": {
      "image/png": "[encoded data removed]",
      "text/plain": [
       "<Figure size 432x288 with 1 Axes>"
      ]
     },
     "metadata": {
      "needs_background": "light"
     },
     "output_type": "display_data"
    }
   ],
   "source": [
    "all_data[\"weight_jin\"] = all_data[\"weight_jin\"].map(weight_class)\n",
    "sns.countplot(x='weight_jin', data=all_data)"
   ]
  },
  {
   "cell_type": "code",
   "execution_count": 332,
   "metadata": {},
   "outputs": [],
   "source": [
    "def  height_class(x):\n",
    "    if(x<150):\n",
    "        return 1\n",
    "    elif(x>=150 and x<160):\n",
    "        return 1\n",
    "    elif(x>=160 and x<170):\n",
    "        return 2 \n",
    "    elif(x>=170 and x<180):\n",
    "        return 3\n",
    "    elif(x>=180 and x<190):\n",
    "        return 4\n",
    "    else:\n",
    "        return 5"
   ]
  },
  {
   "cell_type": "code",
   "execution_count": 333,
   "metadata": {},
   "outputs": [],
   "source": [
    "all_data[\"height_cm\"] = all_data[\"height_cm\"].map(height_class)\n",
    "# "
   ]
  },
  {
   "cell_type": "code",
   "execution_count": 334,
   "metadata": {},
   "outputs": [
    {
     "data": {
      "text/plain": [
       "<matplotlib.axes._subplots.AxesSubplot at 0x1d5d0ff31c8>"
      ]
     },
     "execution_count": 334,
     "metadata": {},
     "output_type": "execute_result"
    },
    {
     "data": {
      "image/png": "[encoded data removed]",
      "text/plain": [
       "<Figure size 432x288 with 1 Axes>"
      ]
     },
     "metadata": {
      "needs_background": "light"
     },
     "output_type": "display_data"
    }
   ],
   "source": [
    "sns.kdeplot(all_data['fat'])"
   ]
  },
  {
   "cell_type": "code",
   "execution_count": 335,
   "metadata": {},
   "outputs": [],
   "source": [
    "#all_data.drop(['weight_jin'],axis=1,inplace=True)"
   ]
  },
  {
   "cell_type": "code",
   "execution_count": 336,
   "metadata": {},
   "outputs": [],
   "source": [
    "\n",
    "# 收入分级\n",
    "def get_income_class(x):\n",
    "    if(x<=0):\n",
    "        return 0\n",
    "    if 0< x < 2800:\n",
    "        return  1\n",
    "    elif 2800<= x <10000:\n",
    "        return 2\n",
    "    elif 10000 <= x <27000:\n",
    "        return 3\n",
    "    elif 27000<= x <100000:\n",
    "        return 4\n",
    "    else : return 5"
   ]
  },
  {
   "cell_type": "code",
   "execution_count": null,
   "metadata": {},
   "outputs": [],
   "source": [
    "\n"
   ]
  },
  {
   "cell_type": "code",
   "execution_count": 337,
   "metadata": {},
   "outputs": [
    {
     "data": {
      "text/plain": [
       "<matplotlib.axes._subplots.AxesSubplot at 0x1d5d106cec8>"
      ]
     },
     "execution_count": 337,
     "metadata": {},
     "output_type": "execute_result"
    },
    {
     "data": {
      "image/png": "[encoded data removed]",
      "text/plain": [
       "<Figure size 432x288 with 1 Axes>"
      ]
     },
     "metadata": {
      "needs_background": "light"
     },
     "output_type": "display_data"
    }
   ],
   "source": [
    "#再对收入进行分级\n",
    "all_data[\"income\"] = all_data[\"income\"].map(lambda x:0 if x<0 else x)\n",
    "all_data[\"income_class\"] = all_data[\"income\"].map(get_income_class)\n",
    "all_data.drop(['income'],axis=1,inplace=True)\n",
    "sns.countplot(x='income_class', data=all_data)\n"
   ]
  },
  {
   "cell_type": "code",
   "execution_count": 338,
   "metadata": {},
   "outputs": [],
   "source": [
    "# 对住房面积进行划分\n",
    "def floor_area_split(x):\n",
    "    if(x<=0):\n",
    "        return 0\n",
    "    if 0<x<15:\n",
    "        return 1\n",
    "    elif 15<=x<30:\n",
    "        return 2\n",
    "    elif 30<=x<50:\n",
    "        return 3\n",
    "    elif 50<=x<80:\n",
    "        return 4\n",
    "    elif 80<=x<96:\n",
    "        return 5\n",
    "    elif 96<=x<110:\n",
    "        return 6\n",
    "    elif 110<=x<130:\n",
    "        return 7\n",
    "    elif 130<=x<200:\n",
    "        return 8\n",
    "    elif x>=200:\n",
    "        return 9\n",
    "\n"
   ]
  },
  {
   "cell_type": "code",
   "execution_count": 339,
   "metadata": {},
   "outputs": [],
   "source": [
    "all_data[\"floor_area_s\"]=all_data[\"floor_area\"].map(floor_area_split)"
   ]
  },
  {
   "cell_type": "code",
   "execution_count": 340,
   "metadata": {},
   "outputs": [],
   "source": [
    "\n",
    "# 对省份进行分级\n",
    "def province_split(x):\n",
    "    if x in [6,1,12,28,13]:\n",
    "        return 0\n",
    "    elif x in [24,29,26,2,8,22,21]:\n",
    "        return 1\n",
    "    elif x in [16,31]:\n",
    "        return 2\n",
    "    elif x in [9,7,15,11,18,30,27,19]:\n",
    "        return 3\n",
    "    elif x in [23,5,10,4,3,17,4]:\n",
    "        return 4"
   ]
  },
  {
   "cell_type": "code",
   "execution_count": 341,
   "metadata": {},
   "outputs": [
    {
     "data": {
      "text/plain": [
       "<matplotlib.axes._subplots.AxesSubplot at 0x1d5d1428988>"
      ]
     },
     "execution_count": 341,
     "metadata": {},
     "output_type": "execute_result"
    },
    {
     "data": {
      "image/png": "[encoded data removed]",
      "text/plain": [
       "<Figure size 432x288 with 1 Axes>"
      ]
     },
     "metadata": {
      "needs_background": "light"
     },
     "output_type": "display_data"
    }
   ],
   "source": [
    "all_data[\"province_s\"]=all_data[\"province\"].map(province_split)\n",
    "sns.countplot(x='province_s', data=all_data)"
   ]
  },
  {
   "cell_type": "code",
   "execution_count": 342,
   "metadata": {},
   "outputs": [],
   "source": [
    "# 既然已对省份划分 那么省去省份这个属性\n",
    "all_data.drop(['province'],axis=1,inplace=True)\n"
   ]
  },
  {
   "cell_type": "code",
   "execution_count": null,
   "metadata": {},
   "outputs": [],
   "source": [
    "\n"
   ]
  },
  {
   "cell_type": "code",
   "execution_count": 343,
   "metadata": {},
   "outputs": [],
   "source": [
    "# 人均住房面积 \n",
    "all_data['aver_area']=all_data['floor_area']/all_data['family_m']\n",
    "# 删除住房面积,人居住房面积\n",
    "all_data.drop(['floor_area'],axis=1,inplace=True)"
   ]
  },
  {
   "cell_type": "code",
   "execution_count": 344,
   "metadata": {},
   "outputs": [],
   "source": [
    "all_data.drop(['id'],axis=1,inplace=True)\n",
    "all_data.drop(['survey_time','birth'],axis=1,inplace=True)"
   ]
  },
  {
   "cell_type": "code",
   "execution_count": 345,
   "metadata": {},
   "outputs": [
    {
     "data": {
      "text/plain": [
       "<matplotlib.axes._subplots.AxesSubplot at 0x1d5d146a748>"
      ]
     },
     "execution_count": 345,
     "metadata": {},
     "output_type": "execute_result"
    },
    {
     "data": {
      "image/png": "[encoded data removed]",
      "text/plain": [
       "<Figure size 432x288 with 1 Axes>"
      ]
     },
     "metadata": {
      "needs_background": "light"
     },
     "output_type": "display_data"
    }
   ],
   "source": [
    "sns.kdeplot(all_data['floor_area_s'])"
   ]
  },
  {
   "cell_type": "code",
   "execution_count": null,
   "metadata": {},
   "outputs": [],
   "source": []
  },
  {
   "cell_type": "code",
   "execution_count": 346,
   "metadata": {},
   "outputs": [],
   "source": [
    "all_data['mar_yr']=2015-all_data['marital_now']\n",
    "all_data.drop(['s_birth','f_birth','m_birth'],axis=1,inplace=True)\n",
    "all_data.drop(['marital_now'],axis=1,inplace=True)\n"
   ]
  },
  {
   "cell_type": "code",
   "execution_count": 347,
   "metadata": {},
   "outputs": [
    {
     "data": {
      "text/plain": [
       "<matplotlib.axes._subplots.AxesSubplot at 0x1d5d169ae48>"
      ]
     },
     "execution_count": 347,
     "metadata": {},
     "output_type": "execute_result"
    },
    {
     "data": {
      "image/png": "[encoded data removed]",
      "text/plain": [
       "<Figure size 432x288 with 1 Axes>"
      ]
     },
     "metadata": {},
     "output_type": "display_data"
    }
   ],
   "source": [
    "all_data['equity'].value_counts().plot.pie(autopct='%1.1f%%' ,shadow=True)"
   ]
  },
  {
   "cell_type": "code",
   "execution_count": 348,
   "metadata": {},
   "outputs": [
    {
     "data": {
      "text/plain": [
       "<matplotlib.axes._subplots.AxesSubplot at 0x1d5d0f17ac8>"
      ]
     },
     "execution_count": 348,
     "metadata": {},
     "output_type": "execute_result"
    },
    {
     "data": {
      "image/png": "[encoded data removed]",
      "text/plain": [
       "<Figure size 432x288 with 1 Axes>"
      ]
     },
     "metadata": {
      "needs_background": "light"
     },
     "output_type": "display_data"
    }
   ],
   "source": [
    "# 公平\n",
    "\n",
    "all_data['equity'] = all_data['equity'].map(lambda x:4 if x==-8 else x)\n",
    "sns.countplot(x='equity', data=all_data)"
   ]
  },
  {
   "cell_type": "code",
   "execution_count": 349,
   "metadata": {},
   "outputs": [
    {
     "data": {
      "text/plain": [
       "<matplotlib.axes._subplots.AxesSubplot at 0x1d5d10c3108>"
      ]
     },
     "execution_count": 349,
     "metadata": {},
     "output_type": "execute_result"
    },
    {
     "data": {
      "image/png": "[encoded data removed]",
      "text/plain": [
       "<Figure size 432x288 with 1 Axes>"
      ]
     },
     "metadata": {
      "needs_background": "light"
     },
     "output_type": "display_data"
    }
   ],
   "source": [
    "\n",
    "numeric_cols=['height_cm','s_income','house','family_income','family_m'\n",
    "              ,'son','daughter','minor_child','inc_exp','public_service_1',\n",
    "              'public_service_2','public_service_3','public_service_4',\n",
    "              'public_service_5','public_service_6','public_service_7',\n",
    "              'public_service_8','public_service_9','aver_area','mar_yr']\n",
    "numeric_cols_means=all_data.loc[:,numeric_cols].mean()\n",
    "numeric_cols_std=all_data.loc[:,numeric_cols].std()\n",
    "df_numeric=(all_data.loc[:,numeric_cols]-numeric_cols_means)/numeric_cols_std\n",
    "df_numeric.iloc[:,1].hist(color='y')"
   ]
  },
  {
   "cell_type": "code",
   "execution_count": 350,
   "metadata": {},
   "outputs": [],
   "source": [
    "# 对object类型进行规范化  调用get_dummies函数\n",
    "df_object=all_data.drop(numeric_cols,axis=1)\n",
    "df_object=df_object.astype(str)\n",
    "for cols in list(df_object.iloc[:,1:].columns):\n",
    "    df_object=pd.get_dummies(df_object.iloc[:,1:],prefix=cols)\n"
   ]
  },
  {
   "cell_type": "code",
   "execution_count": 351,
   "metadata": {},
   "outputs": [],
   "source": [
    "\n",
    "data=pd.concat((df_object,df_numeric),axis=1)"
   ]
  },
  {
   "cell_type": "code",
   "execution_count": 352,
   "metadata": {},
   "outputs": [
    {
     "name": "stdout",
     "output_type": "stream",
     "text": [
      "8000\n",
      "8000\n",
      "2968\n"
     ]
    }
   ],
   "source": [
    "train_data=data.iloc[:8000,:]\n",
    "test_data=data.iloc[8000:,:]\n",
    "X_train=train_data.values\n",
    "X_test=test_data.values\n",
    "print(len(X_train))\n",
    "print(len(y_train))\n",
    "print(len(X_test))"
   ]
  },
  {
   "cell_type": "code",
   "execution_count": 353,
   "metadata": {},
   "outputs": [],
   "source": [
    "\n",
    "import lightgbm as lgb\n",
    "from sklearn.metrics import mean_squared_error\n",
    "from sklearn.model_selection import KFold, RepeatedKFold\n",
    "\n",
    "import xgboost as xgb"
   ]
  },
  {
   "cell_type": "code",
   "execution_count": 354,
   "metadata": {},
   "outputs": [],
   "source": [
    "#自定义评价函数\n",
    "def myFeval(preds, xgbtrain):\n",
    "    label = xgbtrain.get_label()\n",
    "    score = mean_squared_error(label,preds)\n",
    "    return 'myFeval',score"
   ]
  },
  {
   "cell_type": "code",
   "execution_count": 355,
   "metadata": {},
   "outputs": [
    {
     "name": "stdout",
     "output_type": "stream",
     "text": [
      "fold n°1\n",
      "[14:55:43] WARNING: C:/Users/Administrator/workspace/xgboost-win64_release_1.1.0/src/objective/regression_obj.cu:170: reg:linear is now deprecated in favor of reg:squarederror.\n",
      "[14:55:43] WARNING: C:\\Users\\Administrator\\workspace\\xgboost-win64_release_1.1.0\\src\\learner.cc:480: \n",
      "Parameters: { silent } might not be used.\n",
      "\n",
      "  This may not be accurate due to some parameters are only used in language bindings but\n",
      "  passed down to XGBoost core.  Or some parameters are not used but slip through this\n",
      "  verification. Please open an issue if you find above cases.\n",
      "\n",
      "\n",
      "[0]\ttrain-rmse:3.43559\tvalid_data-rmse:3.41999\ttrain-myFeval:11.80326\tvalid_data-myFeval:11.69630\n",
      "Multiple eval metrics have been passed: 'valid_data-myFeval' will be used for early stopping.\n",
      "\n",
      "Will train until valid_data-myFeval hasn't improved in 200 rounds.\n",
      "[100]\ttrain-rmse:1.41886\tvalid_data-rmse:1.40996\ttrain-myFeval:2.01317\tvalid_data-myFeval:1.98799\n",
      "[200]\ttrain-rmse:0.80019\tvalid_data-rmse:0.81595\ttrain-myFeval:0.64030\tvalid_data-myFeval:0.66578\n",
      "[300]\ttrain-rmse:0.64821\tvalid_data-rmse:0.69349\ttrain-myFeval:0.42018\tvalid_data-myFeval:0.48092\n",
      "[400]\ttrain-rmse:0.60469\tvalid_data-rmse:0.67228\ttrain-myFeval:0.36565\tvalid_data-myFeval:0.45196\n",
      "[500]\ttrain-rmse:0.58060\tvalid_data-rmse:0.66687\ttrain-myFeval:0.33710\tvalid_data-myFeval:0.44471\n",
      "[600]\ttrain-rmse:0.56325\tvalid_data-rmse:0.66479\ttrain-myFeval:0.31725\tvalid_data-myFeval:0.44194\n",
      "[700]\ttrain-rmse:0.54808\tvalid_data-rmse:0.66353\ttrain-myFeval:0.30039\tvalid_data-myFeval:0.44027\n",
      "[800]\ttrain-rmse:0.53536\tvalid_data-rmse:0.66277\ttrain-myFeval:0.28661\tvalid_data-myFeval:0.43927\n",
      "[900]\ttrain-rmse:0.52369\tvalid_data-rmse:0.66201\ttrain-myFeval:0.27425\tvalid_data-myFeval:0.43825\n",
      "[1000]\ttrain-rmse:0.51263\tvalid_data-rmse:0.66142\ttrain-myFeval:0.26279\tvalid_data-myFeval:0.43748\n",
      "[1100]\ttrain-rmse:0.50266\tvalid_data-rmse:0.66073\ttrain-myFeval:0.25266\tvalid_data-myFeval:0.43656\n",
      "[1200]\ttrain-rmse:0.49290\tvalid_data-rmse:0.66034\ttrain-myFeval:0.24295\tvalid_data-myFeval:0.43604\n",
      "[1300]\ttrain-rmse:0.48362\tvalid_data-rmse:0.66009\ttrain-myFeval:0.23389\tvalid_data-myFeval:0.43572\n",
      "[1400]\ttrain-rmse:0.47512\tvalid_data-rmse:0.66009\ttrain-myFeval:0.22574\tvalid_data-myFeval:0.43572\n",
      "[1500]\ttrain-rmse:0.46618\tvalid_data-rmse:0.66008\ttrain-myFeval:0.21732\tvalid_data-myFeval:0.43570\n",
      "[1600]\ttrain-rmse:0.45747\tvalid_data-rmse:0.66005\ttrain-myFeval:0.20927\tvalid_data-myFeval:0.43566\n",
      "Stopping. Best iteration:\n",
      "[1442]\ttrain-rmse:0.47112\tvalid_data-rmse:0.65984\ttrain-myFeval:0.22195\tvalid_data-myFeval:0.43539\n",
      "\n",
      "[15:00:10] WARNING: C:/Users/Administrator/workspace/xgboost-win64_release_1.1.0/src/objective/regression_obj.cu:170: reg:linear is now deprecated in favor of reg:squarederror.\n",
      "fold n°2\n",
      "[15:00:12] WARNING: C:/Users/Administrator/workspace/xgboost-win64_release_1.1.0/src/objective/regression_obj.cu:170: reg:linear is now deprecated in favor of reg:squarederror.\n",
      "[15:00:12] WARNING: C:\\Users\\Administrator\\workspace\\xgboost-win64_release_1.1.0\\src\\learner.cc:480: \n",
      "Parameters: { silent } might not be used.\n",
      "\n",
      "  This may not be accurate due to some parameters are only used in language bindings but\n",
      "  passed down to XGBoost core.  Or some parameters are not used but slip through this\n",
      "  verification. Please open an issue if you find above cases.\n",
      "\n",
      "\n",
      "[0]\ttrain-rmse:3.43425\tvalid_data-rmse:3.42409\ttrain-myFeval:11.79414\tvalid_data-myFeval:11.72441\n",
      "Multiple eval metrics have been passed: 'valid_data-myFeval' will be used for early stopping.\n",
      "\n",
      "Will train until valid_data-myFeval hasn't improved in 200 rounds.\n",
      "[100]\ttrain-rmse:1.41449\tvalid_data-rmse:1.42766\ttrain-myFeval:2.00077\tvalid_data-myFeval:2.03821\n",
      "[200]\ttrain-rmse:0.79219\tvalid_data-rmse:0.84601\ttrain-myFeval:0.62757\tvalid_data-myFeval:0.71573\n",
      "[300]\ttrain-rmse:0.63913\tvalid_data-rmse:0.72661\ttrain-myFeval:0.40848\tvalid_data-myFeval:0.52796\n",
      "[400]\ttrain-rmse:0.59535\tvalid_data-rmse:0.70450\ttrain-myFeval:0.35444\tvalid_data-myFeval:0.49632\n",
      "[500]\ttrain-rmse:0.57232\tvalid_data-rmse:0.69893\ttrain-myFeval:0.32755\tvalid_data-myFeval:0.48850\n",
      "[600]\ttrain-rmse:0.55578\tvalid_data-rmse:0.69659\ttrain-myFeval:0.30889\tvalid_data-myFeval:0.48524\n",
      "[700]\ttrain-rmse:0.54161\tvalid_data-rmse:0.69478\ttrain-myFeval:0.29335\tvalid_data-myFeval:0.48272\n",
      "[800]\ttrain-rmse:0.52883\tvalid_data-rmse:0.69333\ttrain-myFeval:0.27966\tvalid_data-myFeval:0.48070\n",
      "[900]\ttrain-rmse:0.51745\tvalid_data-rmse:0.69244\ttrain-myFeval:0.26775\tvalid_data-myFeval:0.47947\n",
      "[1000]\ttrain-rmse:0.50663\tvalid_data-rmse:0.69153\ttrain-myFeval:0.25667\tvalid_data-myFeval:0.47821\n",
      "[1100]\ttrain-rmse:0.49640\tvalid_data-rmse:0.69108\ttrain-myFeval:0.24641\tvalid_data-myFeval:0.47759\n",
      "[1200]\ttrain-rmse:0.48700\tvalid_data-rmse:0.69082\ttrain-myFeval:0.23717\tvalid_data-myFeval:0.47723\n",
      "[1300]\ttrain-rmse:0.47784\tvalid_data-rmse:0.69018\ttrain-myFeval:0.22833\tvalid_data-myFeval:0.47635\n",
      "[1400]\ttrain-rmse:0.46962\tvalid_data-rmse:0.69015\ttrain-myFeval:0.22054\tvalid_data-myFeval:0.47630\n",
      "[1500]\ttrain-rmse:0.46072\tvalid_data-rmse:0.68989\ttrain-myFeval:0.21226\tvalid_data-myFeval:0.47595\n",
      "[1600]\ttrain-rmse:0.45162\tvalid_data-rmse:0.68975\ttrain-myFeval:0.20396\tvalid_data-myFeval:0.47576\n",
      "[1700]\ttrain-rmse:0.44432\tvalid_data-rmse:0.68997\ttrain-myFeval:0.19742\tvalid_data-myFeval:0.47606\n",
      "[1800]\ttrain-rmse:0.43633\tvalid_data-rmse:0.69005\ttrain-myFeval:0.19038\tvalid_data-myFeval:0.47617\n",
      "Stopping. Best iteration:\n",
      "[1611]\ttrain-rmse:0.45082\tvalid_data-rmse:0.68968\ttrain-myFeval:0.20324\tvalid_data-myFeval:0.47566\n",
      "\n",
      "[15:04:59] WARNING: C:/Users/Administrator/workspace/xgboost-win64_release_1.1.0/src/objective/regression_obj.cu:170: reg:linear is now deprecated in favor of reg:squarederror.\n",
      "fold n°3\n",
      "[15:05:01] WARNING: C:/Users/Administrator/workspace/xgboost-win64_release_1.1.0/src/objective/regression_obj.cu:170: reg:linear is now deprecated in favor of reg:squarederror.\n",
      "[15:05:01] WARNING: C:\\Users\\Administrator\\workspace\\xgboost-win64_release_1.1.0\\src\\learner.cc:480: \n",
      "Parameters: { silent } might not be used.\n",
      "\n",
      "  This may not be accurate due to some parameters are only used in language bindings but\n",
      "  passed down to XGBoost core.  Or some parameters are not used but slip through this\n",
      "  verification. Please open an issue if you find above cases.\n",
      "\n",
      "\n",
      "[0]\ttrain-rmse:3.42980\tvalid_data-rmse:3.43768\ttrain-myFeval:11.76351\tvalid_data-myFeval:11.81766\n",
      "Multiple eval metrics have been passed: 'valid_data-myFeval' will be used for early stopping.\n",
      "\n",
      "Will train until valid_data-myFeval hasn't improved in 200 rounds.\n",
      "[100]\ttrain-rmse:1.41502\tvalid_data-rmse:1.43950\ttrain-myFeval:2.00230\tvalid_data-myFeval:2.07216\n",
      "[200]\ttrain-rmse:0.79515\tvalid_data-rmse:0.84510\ttrain-myFeval:0.63226\tvalid_data-myFeval:0.71419\n",
      "[300]\ttrain-rmse:0.64343\tvalid_data-rmse:0.71657\ttrain-myFeval:0.41400\tvalid_data-myFeval:0.51348\n",
      "[400]\ttrain-rmse:0.59891\tvalid_data-rmse:0.69079\ttrain-myFeval:0.35870\tvalid_data-myFeval:0.47719\n",
      "[500]\ttrain-rmse:0.57612\tvalid_data-rmse:0.68357\ttrain-myFeval:0.33192\tvalid_data-myFeval:0.46727\n",
      "[600]\ttrain-rmse:0.55860\tvalid_data-rmse:0.68097\ttrain-myFeval:0.31204\tvalid_data-myFeval:0.46372\n",
      "[700]\ttrain-rmse:0.54486\tvalid_data-rmse:0.67898\ttrain-myFeval:0.29687\tvalid_data-myFeval:0.46101\n",
      "[800]\ttrain-rmse:0.53182\tvalid_data-rmse:0.67817\ttrain-myFeval:0.28283\tvalid_data-myFeval:0.45991\n",
      "[900]\ttrain-rmse:0.51992\tvalid_data-rmse:0.67745\ttrain-myFeval:0.27031\tvalid_data-myFeval:0.45893\n",
      "[1000]\ttrain-rmse:0.50906\tvalid_data-rmse:0.67717\ttrain-myFeval:0.25914\tvalid_data-myFeval:0.45856\n",
      "[1100]\ttrain-rmse:0.49902\tvalid_data-rmse:0.67687\ttrain-myFeval:0.24902\tvalid_data-myFeval:0.45815\n",
      "[1200]\ttrain-rmse:0.48907\tvalid_data-rmse:0.67703\ttrain-myFeval:0.23919\tvalid_data-myFeval:0.45837\n",
      "[1300]\ttrain-rmse:0.47896\tvalid_data-rmse:0.67690\ttrain-myFeval:0.22940\tvalid_data-myFeval:0.45820\n",
      "Stopping. Best iteration:\n",
      "[1143]\ttrain-rmse:0.49492\tvalid_data-rmse:0.67677\ttrain-myFeval:0.24495\tvalid_data-myFeval:0.45802\n",
      "\n",
      "[15:08:34] WARNING: C:/Users/Administrator/workspace/xgboost-win64_release_1.1.0/src/objective/regression_obj.cu:170: reg:linear is now deprecated in favor of reg:squarederror.\n",
      "fold n°4\n",
      "[15:08:35] WARNING: C:/Users/Administrator/workspace/xgboost-win64_release_1.1.0/src/objective/regression_obj.cu:170: reg:linear is now deprecated in favor of reg:squarederror.\n",
      "[15:08:35] WARNING: C:\\Users\\Administrator\\workspace\\xgboost-win64_release_1.1.0\\src\\learner.cc:480: \n",
      "Parameters: { silent } might not be used.\n",
      "\n",
      "  This may not be accurate due to some parameters are only used in language bindings but\n",
      "  passed down to XGBoost core.  Or some parameters are not used but slip through this\n",
      "  verification. Please open an issue if you find above cases.\n",
      "\n",
      "\n"
     ]
    },
    {
     "name": "stdout",
     "output_type": "stream",
     "text": [
      "[0]\ttrain-rmse:3.42735\tvalid_data-rmse:3.44547\ttrain-myFeval:11.74674\tvalid_data-myFeval:11.87126\n",
      "Multiple eval metrics have been passed: 'valid_data-myFeval' will be used for early stopping.\n",
      "\n",
      "Will train until valid_data-myFeval hasn't improved in 200 rounds.\n",
      "[100]\ttrain-rmse:1.41377\tvalid_data-rmse:1.44548\ttrain-myFeval:1.99874\tvalid_data-myFeval:2.08942\n",
      "[200]\ttrain-rmse:0.79368\tvalid_data-rmse:0.85262\ttrain-myFeval:0.62993\tvalid_data-myFeval:0.72697\n",
      "[300]\ttrain-rmse:0.64120\tvalid_data-rmse:0.72485\ttrain-myFeval:0.41114\tvalid_data-myFeval:0.52541\n",
      "[400]\ttrain-rmse:0.59766\tvalid_data-rmse:0.69836\ttrain-myFeval:0.35719\tvalid_data-myFeval:0.48771\n",
      "[500]\ttrain-rmse:0.57504\tvalid_data-rmse:0.69077\ttrain-myFeval:0.33067\tvalid_data-myFeval:0.47717\n",
      "[600]\ttrain-rmse:0.55808\tvalid_data-rmse:0.68746\ttrain-myFeval:0.31146\tvalid_data-myFeval:0.47260\n",
      "[700]\ttrain-rmse:0.54326\tvalid_data-rmse:0.68529\ttrain-myFeval:0.29513\tvalid_data-myFeval:0.46962\n",
      "[800]\ttrain-rmse:0.52993\tvalid_data-rmse:0.68427\ttrain-myFeval:0.28083\tvalid_data-myFeval:0.46822\n",
      "[900]\ttrain-rmse:0.51833\tvalid_data-rmse:0.68349\ttrain-myFeval:0.26867\tvalid_data-myFeval:0.46716\n",
      "[1000]\ttrain-rmse:0.50722\tvalid_data-rmse:0.68307\ttrain-myFeval:0.25727\tvalid_data-myFeval:0.46658\n",
      "[1100]\ttrain-rmse:0.49679\tvalid_data-rmse:0.68271\ttrain-myFeval:0.24680\tvalid_data-myFeval:0.46609\n",
      "[1200]\ttrain-rmse:0.48700\tvalid_data-rmse:0.68229\ttrain-myFeval:0.23716\tvalid_data-myFeval:0.46551\n",
      "[1300]\ttrain-rmse:0.47695\tvalid_data-rmse:0.68178\ttrain-myFeval:0.22748\tvalid_data-myFeval:0.46483\n",
      "[1400]\ttrain-rmse:0.46768\tvalid_data-rmse:0.68157\ttrain-myFeval:0.21873\tvalid_data-myFeval:0.46454\n",
      "[1500]\ttrain-rmse:0.45924\tvalid_data-rmse:0.68126\ttrain-myFeval:0.21090\tvalid_data-myFeval:0.46412\n",
      "[1600]\ttrain-rmse:0.45098\tvalid_data-rmse:0.68106\ttrain-myFeval:0.20339\tvalid_data-myFeval:0.46384\n",
      "[1700]\ttrain-rmse:0.44246\tvalid_data-rmse:0.68095\ttrain-myFeval:0.19577\tvalid_data-myFeval:0.46369\n",
      "[1800]\ttrain-rmse:0.43451\tvalid_data-rmse:0.68126\ttrain-myFeval:0.18880\tvalid_data-myFeval:0.46412\n",
      "Stopping. Best iteration:\n",
      "[1689]\ttrain-rmse:0.44349\tvalid_data-rmse:0.68082\ttrain-myFeval:0.19669\tvalid_data-myFeval:0.46352\n",
      "\n",
      "[15:13:36] WARNING: C:/Users/Administrator/workspace/xgboost-win64_release_1.1.0/src/objective/regression_obj.cu:170: reg:linear is now deprecated in favor of reg:squarederror.\n"
     ]
    }
   ],
   "source": [
    "xgb_params = {\"booster\":'gbtree','eta': 0.01, 'max_depth': 5, 'subsample': 0.7, \n",
    "              'colsample_bytree': 0.6, 'objective': 'reg:linear', 'eval_metric': 'rmse', 'silent': True, 'nthread': 8}\n",
    "# xgb_params ={'max_depth':[4,5,6],'min_child_weight':list(range(1,6,2))}\n",
    "\n",
    "folds = KFold(n_splits=3, shuffle=True, random_state=2018)\n",
    "oof_xgb = np.zeros(8000)\n",
    "predictions_xgb = np.zeros(2968)\n",
    "\n",
    "for fold_, (trn_idx, val_idx) in enumerate(folds.split(X_train, y_train)):\n",
    "    print(\"fold n°{}\".format(fold_+1))\n",
    "    trn_data = xgb.DMatrix(X_train[trn_idx], y_train[trn_idx])\n",
    "    val_data = xgb.DMatrix(X_train[val_idx], y_train[val_idx])\n",
    "    \n",
    "    watchlist = [(trn_data, 'train'), (val_data, 'valid_data')]\n",
    "    clf = xgb.train(dtrain=trn_data, num_boost_round=20000, evals=watchlist, early_stopping_rounds=200, verbose_eval=100, params=xgb_params,feval = myFeval)\n",
    "    oof_xgb[val_idx] = clf.predict(xgb.DMatrix(X_train[val_idx]), ntree_limit=clf.best_ntree_limit)\n",
    "    predictions_xgb += clf.predict(xgb.DMatrix(X_test), ntree_limit=clf.best_ntree_limit) / folds.n_splits\n",
    "    \n",
    "# print(\"CV score: {:<8.8f}\".format(mean_squared_error(oof_xgb, y_train_)))"
   ]
  },
  {
   "cell_type": "code",
   "execution_count": 356,
   "metadata": {},
   "outputs": [
    {
     "name": "stdout",
     "output_type": "stream",
     "text": [
      "CV score: 0.45814916\n"
     ]
    }
   ],
   "source": [
    "print(\"CV score: {:<8.8f}\".format(mean_squared_error(oof_xgb, y_train)))"
   ]
  },
  {
   "cell_type": "code",
   "execution_count": 357,
   "metadata": {},
   "outputs": [],
   "source": [
    "\n",
    "from catboost import Pool, CatBoostRegressor\n",
    "\n",
    "from sklearn.model_selection import train_test_split\n",
    "\n",
    "kfolder = KFold(n_splits=5, shuffle=True, random_state=2019)\n",
    "oof_cb = np.zeros(len(X_train))\n",
    "predictions_cb = np.zeros(len(X_test))\n",
    "kfold = kfolder.split(X_train, y_train)\n",
    "fold_=0\n",
    "\n",
    "for train_index, vali_index in kfold:\n",
    "    print(\"fold n°{}\".format(fold_))\n",
    "    fold_=fold_+1\n",
    "    k_x_train = X_train[train_index]\n",
    "    k_y_train = y_train[train_index]\n",
    "    k_x_vali = X_train[vali_index]\n",
    "    k_y_vali = y_train[vali_index]\n",
    "    cb_params = {\n",
    "         'n_estimators': 10000,\n",
    "         'loss_function': 'RMSE',\n",
    "         'eval_metric':'RMSE',\n",
    "         'learning_rate': 0.01,\n",
    "         'depth': 4,\n",
    "         'use_best_model': True,\n",
    "         'subsample': 0.6,\n",
    "         'bootstrap_type': 'Bernoulli',\n",
    "         'reg_lambda': 3\n",
    "    }\n",
    "    model_cb = CatBoostRegressor(**cb_params)\n",
    "\n",
    "    model_cb.fit(k_x_train, k_y_train,eval_set=[(k_x_vali, k_y_vali)],verbose=100,early_stopping_rounds=50)\n",
    "    oof_cb[vali_index] = model_cb.predict(k_x_vali, ntree_end=model_cb.best_iteration_)\n",
    "    predictions_cb += model_cb.predict(X_test, ntree_end=model_cb.best_iteration_) / kfolder.n_splits\n",
    "print(\"CV score: {:<8.8f}\".format(mean_squared_error(oof_cb, y_train)))"
   ]
  },
  {
   "cell_type": "code",
   "execution_count": null,
   "metadata": {},
   "outputs": [],
   "source": []
  },
  {
   "cell_type": "code",
   "execution_count": 358,
   "metadata": {},
   "outputs": [],
   "source": [
    "test_sub=pd.read_csv(\"data/happiness_submit.csv\",encoding='ansi')\n",
    "result=list(predictions)\n",
    "test_sub[\"happiness\"]=result\n",
    "test_sub.to_csv(\"happiness_submit_total.csv\", index=False)"
   ]
  },
  {
   "cell_type": "code",
   "execution_count": 359,
   "metadata": {},
   "outputs": [
    {
     "data": {
      "text/plain": [
       "GridSearchCV(estimator=LGBMRegressor(num_leaves=20),\n",
       "             param_grid={'learning_rate': [0.01, 0.1, 0.5, 1],\n",
       "                         'n_estimators': [10, 20, 30, 40]})"
      ]
     },
     "execution_count": 359,
     "metadata": {},
     "output_type": "execute_result"
    }
   ],
   "source": [
    "from sklearn.model_selection import GridSearchCV\n",
    "estimator=lgb.LGBMRegressor(num_leaves=20)\n",
    "param_grid={\n",
    "    'learning_rate':[0.01,0.1,0.5,1],\n",
    "    'n_estimators':[10,20,30,40]\n",
    "}\n",
    "gbm=GridSearchCV(estimator,param_grid)\n",
    "gbm.fit(X_train,y_train)"
   ]
  },
  {
   "cell_type": "code",
   "execution_count": 360,
   "metadata": {},
   "outputs": [
    {
     "data": {
      "text/plain": [
       "{'learning_rate': 0.1, 'n_estimators': 40}"
      ]
     },
     "execution_count": 360,
     "metadata": {},
     "output_type": "execute_result"
    }
   ],
   "source": [
    "gbm.best_params_"
   ]
  },
  {
   "cell_type": "code",
   "execution_count": 361,
   "metadata": {},
   "outputs": [
    {
     "data": {
      "text/plain": [
       "LGBMRegressor(n_estimators=40, num_leaves=20)"
      ]
     },
     "execution_count": 361,
     "metadata": {},
     "output_type": "execute_result"
    }
   ],
   "source": [
    "gbm.best_estimator_"
   ]
  },
  {
   "cell_type": "code",
   "execution_count": 362,
   "metadata": {},
   "outputs": [
    {
     "name": "stdout",
     "output_type": "stream",
     "text": [
      "fold n°1\n",
      "Training until validation scores don't improve for 100 rounds\n",
      "[200]\ttraining's l2: 0.430914\tvalid_1's l2: 0.472882\n",
      "[400]\ttraining's l2: 0.357696\tvalid_1's l2: 0.450052\n",
      "[600]\ttraining's l2: 0.313937\tvalid_1's l2: 0.4445\n",
      "[800]\ttraining's l2: 0.281134\tvalid_1's l2: 0.442723\n",
      "[1000]\ttraining's l2: 0.253904\tvalid_1's l2: 0.441982\n",
      "Early stopping, best iteration is:\n",
      "[928]\ttraining's l2: 0.263089\tvalid_1's l2: 0.441869\n",
      "fold n°2\n",
      "Training until validation scores don't improve for 100 rounds\n",
      "[200]\ttraining's l2: 0.424933\tvalid_1's l2: 0.506185\n",
      "[400]\ttraining's l2: 0.352095\tvalid_1's l2: 0.47989\n",
      "[600]\ttraining's l2: 0.308371\tvalid_1's l2: 0.472647\n",
      "[800]\ttraining's l2: 0.276323\tvalid_1's l2: 0.469927\n",
      "[1000]\ttraining's l2: 0.250169\tvalid_1's l2: 0.469034\n",
      "Early stopping, best iteration is:\n",
      "[962]\ttraining's l2: 0.254896\tvalid_1's l2: 0.468912\n",
      "fold n°3\n",
      "Training until validation scores don't improve for 100 rounds\n",
      "[200]\ttraining's l2: 0.425372\tvalid_1's l2: 0.501632\n",
      "[400]\ttraining's l2: 0.352809\tvalid_1's l2: 0.474557\n",
      "[600]\ttraining's l2: 0.30962\tvalid_1's l2: 0.468098\n",
      "[800]\ttraining's l2: 0.277242\tvalid_1's l2: 0.465501\n",
      "[1000]\ttraining's l2: 0.250482\tvalid_1's l2: 0.46525\n",
      "Early stopping, best iteration is:\n",
      "[917]\ttraining's l2: 0.261186\tvalid_1's l2: 0.465151\n",
      "fold n°4\n",
      "Training until validation scores don't improve for 100 rounds\n",
      "[200]\ttraining's l2: 0.425894\tvalid_1's l2: 0.499933\n",
      "[400]\ttraining's l2: 0.353034\tvalid_1's l2: 0.470853\n",
      "[600]\ttraining's l2: 0.309293\tvalid_1's l2: 0.464259\n",
      "[800]\ttraining's l2: 0.276922\tvalid_1's l2: 0.462893\n",
      "Early stopping, best iteration is:\n",
      "[794]\ttraining's l2: 0.277704\tvalid_1's l2: 0.462731\n",
      "fold n°5\n",
      "Training until validation scores don't improve for 100 rounds\n",
      "[200]\ttraining's l2: 0.426695\tvalid_1's l2: 0.485352\n",
      "[400]\ttraining's l2: 0.353411\tvalid_1's l2: 0.468267\n",
      "[600]\ttraining's l2: 0.309362\tvalid_1's l2: 0.46404\n",
      "[800]\ttraining's l2: 0.277082\tvalid_1's l2: 0.463518\n",
      "Early stopping, best iteration is:\n",
      "[724]\ttraining's l2: 0.28881\tvalid_1's l2: 0.463249\n",
      "CV score: 0.46038245\n"
     ]
    }
   ],
   "source": [
    "param = {'boosting_type': 'gbdt',\n",
    "         'num_leaves': 25,\n",
    "         'min_data_in_leaf': 24, \n",
    "         'objective':'regression',\n",
    "         'max_depth':9,\n",
    "         'learning_rate': 0.01,\n",
    "         \"min_child_samples\": 30,\n",
    "         \n",
    "         \"feature_fraction\": 0.91,\n",
    "         \"bagging_freq\": 1,\n",
    "         \"bagging_fraction\": 0.75,\n",
    "         \"bagging_seed\": 11,\n",
    "         \"metric\": 'mse',\n",
    "         \"lambda_l1\": 0.15,\n",
    "         \"verbosity\": -1}\n",
    "folds = KFold(n_splits=5, shuffle=True, random_state=2018)\n",
    "oof_lgb = np.zeros(len(X_train))\n",
    "predictions_lgb = np.zeros(len(X_test))\n",
    "\n",
    "for fold_, (trn_idx, val_idx) in enumerate(folds.split(X_train, y_train)):\n",
    "    print(\"fold n°{}\".format(fold_+1))\n",
    "    trn_data = lgb.Dataset(X_train[trn_idx], y_train[trn_idx])\n",
    "    val_data = lgb.Dataset(X_train[val_idx], y_train[val_idx])\n",
    "    num_round = 10000\n",
    "    clf = lgb.train(param, trn_data, num_round, valid_sets = [trn_data, val_data], verbose_eval=200, early_stopping_rounds = 100)\n",
    "    oof_lgb[val_idx] = clf.predict(X_train[val_idx], num_iteration=clf.best_iteration)\n",
    "    \n",
    "    predictions_lgb += clf.predict(X_test, num_iteration=clf.best_iteration) / folds.n_splits\n",
    "\n",
    "print(\"CV score: {:<8.8f}\".format(mean_squared_error(oof_lgb, y_train)))"
   ]
  },
  {
   "cell_type": "code",
   "execution_count": 363,
   "metadata": {},
   "outputs": [],
   "source": [
    "test_sub=pd.read_csv(\"data/happiness_submit.csv\",encoding='ansi')\n",
    "result=list(predictions_lgb)\n",
    "test_sub[\"happiness\"]=result\n",
    "test_sub.to_csv(\"happiness_submit_lgb.csv\", index=False)"
   ]
  },
  {
   "cell_type": "code",
   "execution_count": 367,
   "metadata": {},
   "outputs": [
    {
     "name": "stdout",
     "output_type": "stream",
     "text": [
      "fold 0\n",
      "fold 1\n",
      "fold 2\n",
      "fold 3\n",
      "fold 4\n",
      "fold 5\n",
      "fold 6\n",
      "fold 7\n",
      "fold 8\n",
      "fold 9\n",
      "CV score: 0.45727043\n"
     ]
    }
   ],
   "source": [
    "# 模型融合\n",
    "from sklearn.model_selection import KFold, RepeatedKFold\n",
    "from sklearn import linear_model\n",
    "\n",
    "train_stack = np.vstack([oof_lgb,oof_xgb]).transpose()\n",
    "test_stack = np.vstack([predictions_lgb,predictions_xgb]).transpose()\n",
    "\n",
    "folds_stack = RepeatedKFold(n_splits=5, n_repeats=2, random_state=2018)\n",
    "oof_stack = np.zeros(train_stack.shape[0])\n",
    "predictions_total = np.zeros(test_stack.shape[0])\n",
    "\n",
    "for fold_, (trn_idx, val_idx) in enumerate(folds_stack.split(train_stack,y_train)):\n",
    "    print(\"fold {}\".format(fold_))\n",
    "    trn_data, trn_y = train_stack[trn_idx], y_train[trn_idx]\n",
    "    val_data, val_y = train_stack[val_idx], y_train[val_idx]\n",
    "    \n",
    "    clf_3 = linear_model.BayesianRidge()\n",
    "\n",
    "    clf_3.fit(trn_data, trn_y)\n",
    "    \n",
    "    oof_stack[val_idx] = clf_3.predict(val_data)\n",
    "    predictions_total += clf_3.predict(test_stack) / 10\n",
    "    \n",
    "print(\"CV score: {:<8.8f}\".format(mean_squared_error(oof_stack, y_train)))"
   ]
  },
  {
   "cell_type": "code",
   "execution_count": 365,
   "metadata": {},
   "outputs": [],
   "source": [
    "test_sub=pd.read_csv(\"data/happiness_submit.csv\",encoding='ansi')\n",
    "result=list(predictions_total)\n",
    "test_sub[\"happiness\"]=result\n",
    "test_sub.to_csv(\"happiness_submit_total.csv\", index=False)"
   ]
  },
  {
   "cell_type": "code",
   "execution_count": null,
   "metadata": {},
   "outputs": [],
   "source": []
  }
 ],
 "metadata": {
  "kernelspec": {
   "display_name": "Python 3",
   "language": "python",
   "name": "python3"
  },
  "language_info": {
   "codemirror_mode": {
    "name": "ipython",
    "version": 3
   },
   "file_extension": ".py",
   "mimetype": "text/x-python",
   "name": "python",
   "nbconvert_exporter": "python",
   "pygments_lexer": "ipython3",
   "version": "3.7.6"
  }
 },
 "nbformat": 4,
 "nbformat_minor": 2
}
